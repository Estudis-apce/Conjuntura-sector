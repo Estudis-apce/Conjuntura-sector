{
 "cells": [
  {
   "cell_type": "code",
   "execution_count": 1,
   "metadata": {},
   "outputs": [],
   "source": [
    "import pandas as pd\n",
    "import json\n"
   ]
  },
  {
   "cell_type": "code",
   "execution_count": 3,
   "metadata": {},
   "outputs": [],
   "source": [
    "\n",
    "all_sheets = [\"terr_q\", \"mun_q\", \"mun_q_aux\", \"mun_q_aux2\", \"mun_q_aux3\", \"dis_q\", \"terr_y\", \"mun_y\", \"mun_y_aux\", \"mun_y_aux2\", \"mun_y_aux3\", \"dis_y\", \"ind_m\"]\n",
    "\n",
    "list_df = []\n",
    "\n",
    "for i in all_sheets:\n",
    "    list_df.append(pd.read_excel(\"Z:/ESTUDIS/APP/Conjuntura-sector/DT_simple.xlsx\", sheet_name=i))\n",
    "\n",
    "list_df.append(pd.read_excel(\"Z:/ESTUDIS/APP/Conjuntura-sector/Maestro_MUN_COM_PROV.xlsx\", sheet_name=\"Maestro\"))\n",
    "list_df.append(pd.read_excel(\"Z:/ESTUDIS/APP/Conjuntura-sector/Maestro_dis_barris.xlsx\"))\n"
   ]
  },
  {
   "cell_type": "code",
   "execution_count": 4,
   "metadata": {},
   "outputs": [],
   "source": [
    "\n",
    "for i in [0,1,2,3,4,5,12]:\n",
    "    list_df[i][\"Fecha\"] = list_df[i]['Fecha'].dt.strftime('%Y-%m-%d %H:%M:%S')\n",
    "\n",
    "\n",
    "with open('Z:/ESTUDIS/APP/Conjuntura-sector/DT_simple.json', 'w') as outfile:\n",
    "    outfile.write(json.dumps([df.to_dict() for df in list_df]))\n",
    "with open('Z:/ESTUDIS/APP/Conjuntura-sector/DT_simple.json', 'r') as outfile:\n",
    "    list_of_df = [pd.DataFrame.from_dict(item) for item in json.loads(outfile.read())]\n",
    "\n"
   ]
  },
  {
   "cell_type": "code",
   "execution_count": null,
   "metadata": {},
   "outputs": [],
   "source": [
    "\n",
    "all_names = [\"DT_terr\", \"DT_mun\", \"DT_mun_aux\", \"DT_mun_aux2\", \"DT_mun_aux3\", \"DT_dis\", \"DT_terr_y\", \"DT_mun_y\", \"DT_mun_y_aux\", \"DT_mun_y_aux2\", \"DT_mun_y_aux3\", \"DT_dis_y\", \"DT_monthly\"]\n",
    "for i, df in enumerate(list_of_df):\n",
    "    globals()[all_names[i]]= df.copy()"
   ]
  }
 ],
 "metadata": {
  "kernelspec": {
   "display_name": "Python 3",
   "language": "python",
   "name": "python3"
  },
  "language_info": {
   "codemirror_mode": {
    "name": "ipython",
    "version": 3
   },
   "file_extension": ".py",
   "mimetype": "text/x-python",
   "name": "python",
   "nbconvert_exporter": "python",
   "pygments_lexer": "ipython3",
   "version": "3.10.7"
  }
 },
 "nbformat": 4,
 "nbformat_minor": 2
}
